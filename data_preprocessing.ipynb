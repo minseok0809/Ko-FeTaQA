{
 "cells": [
  {
   "cell_type": "markdown",
   "metadata": {},
   "source": [
    "## Data Preprocessing"
   ]
  },
  {
   "cell_type": "markdown",
   "metadata": {},
   "source": [
    "<br><br>"
   ]
  },
  {
   "cell_type": "markdown",
   "metadata": {},
   "source": [
    "### Devleop Environment"
   ]
  },
  {
   "cell_type": "code",
   "execution_count": 2,
   "metadata": {},
   "outputs": [],
   "source": [
    "import tqdm\n",
    "import json\n",
    "import pandas as pd\n",
    "from pandas import option_context"
   ]
  },
  {
   "cell_type": "markdown",
   "metadata": {},
   "source": [
    "### KorQuAD Dataset"
   ]
  },
  {
   "cell_type": "code",
   "execution_count": null,
   "metadata": {},
   "outputs": [],
   "source": [
    "from datasets import load_dataset\n",
    "dataset = load_dataset(\"squad_kor_v2\")\n",
    "\n",
    "for split, split_dataset in dataset.items():\n",
    "    split_dataset.to_json(f\"korquad2/{split}-v2.0.json\", force_ascii=False)"
   ]
  },
  {
   "cell_type": "markdown",
   "metadata": {},
   "source": [
    "### Convert Korean Dataset Format"
   ]
  },
  {
   "cell_type": "code",
   "execution_count": 3,
   "metadata": {},
   "outputs": [],
   "source": [
    "json_path = 'data/fetaQA-v1_test.json'\n",
    "with open(json_path, \"r\", encoding='utf-8') as f:\n",
    "    fetaqa_test_json = json.load(f)"
   ]
  },
  {
   "cell_type": "code",
   "execution_count": 4,
   "metadata": {},
   "outputs": [],
   "source": [
    "json_path = 'data/fetaQA-v1_test.json'\n",
    "fetaqa_test_df = pd.read_json(json_path, lines=True)"
   ]
  },
  {
   "cell_type": "code",
   "execution_count": 5,
   "metadata": {},
   "outputs": [
    {
     "data": {
      "text/html": [
       "<div>\n",
       "<style scoped>\n",
       "    .dataframe tbody tr th:only-of-type {\n",
       "        vertical-align: middle;\n",
       "    }\n",
       "\n",
       "    .dataframe tbody tr th {\n",
       "        vertical-align: top;\n",
       "    }\n",
       "\n",
       "    .dataframe thead th {\n",
       "        text-align: right;\n",
       "    }\n",
       "</style>\n",
       "<table border=\"1\" class=\"dataframe\">\n",
       "  <thead>\n",
       "    <tr style=\"text-align: right;\">\n",
       "      <th></th>\n",
       "      <th>version</th>\n",
       "      <th>split</th>\n",
       "      <th>data</th>\n",
       "    </tr>\n",
       "  </thead>\n",
       "  <tbody>\n",
       "    <tr>\n",
       "      <th>0</th>\n",
       "      <td>v1</td>\n",
       "      <td>test</td>\n",
       "      <td>[{'feta_id': 12322, 'table_source_json': 'tott...</td>\n",
       "    </tr>\n",
       "  </tbody>\n",
       "</table>\n",
       "</div>"
      ],
      "text/plain": [
       "  version split                                               data\n",
       "0      v1  test  [{'feta_id': 12322, 'table_source_json': 'tott..."
      ]
     },
     "execution_count": 5,
     "metadata": {},
     "output_type": "execute_result"
    }
   ],
   "source": [
    "fetaqa_test_df[0:1]"
   ]
  },
  {
   "cell_type": "code",
   "execution_count": 6,
   "metadata": {},
   "outputs": [
    {
     "name": "stdout",
     "output_type": "stream",
     "text": [
      "dict_keys(['feta_id', 'table_source_json', 'page_wikipedia_url', 'table_page_title', 'table_section_title', 'table_array', 'highlighted_cell_ids', 'question', 'answer', 'source'])\n",
      "\n",
      "feta_id  |    12322\n",
      "\n",
      "table_source_json  |    totto_source/train_json/example-4621.json\n",
      "\n",
      "page_wikipedia_url  |    http://en.wikipedia.org/wiki/Holly_Dunn\n",
      "\n",
      "table_page_title  |    Holly Dunn\n",
      "\n",
      "table_section_title  |    Singles\n",
      "\n",
      "table_array  |    [['Year', 'Single', 'Peak chart positions', 'Peak chart positions', 'Album'], ['Year', 'Single', 'US Country', 'CAN Country', 'Album'], ['1985', '\"Playing for Keeps\"', '62', '—', 'N/A'], ['1985', '\"My Heart Holds On\"', '64', '—', 'Holly Dunn'], ['1986', '\"Two Too Many\"', '39', '—', 'Holly Dunn'], ['1986', '\"Daddy\\'s Hands\"', '7', '—', 'Holly Dunn'], ['1987', '\"Love Someone Like Me\"', '2', '2', 'Cornerstone'], ['1987', '\"Only When I Love\"', '4', '7', 'Cornerstone'], ['1988', '\"Strangers Again\"', '7', '36', 'Cornerstone'], ['1988', '\"That\\'s What Your Love Does to Me\"', '5', '6', 'Across the Rio Grande'], ['1988', '\"(It\\'s Always Gonna Be) Someday\"', '11', 'N/A', 'Across the Rio Grande'], ['1989', '\"Are You Ever Gonna Love Me\"', '1', '6', 'The Blue Rose of Texas'], ['1989', '\"There Goes My Heart Again\"', '4', '8', 'The Blue Rose of Texas'], ['1990', '\"My Anniversary for Being a Fool\"', '63', '75', 'Heart Full of Love'], ['1990', '\"You Really Had Me Going\"', '1', '1', 'Heart Full of Love'], ['1991', '\"Heart Full of Love\"', '19', '12', 'Heart Full of Love'], ['1991', '\"Maybe I Mean Yes\"', '48', '45', 'Milestones: Greatest Hits'], ['1991', '\"No One Takes the Train Anymore\"', '—', '—', 'Milestones: Greatest Hits'], ['1992', '\"No Love Have I\"', '67', '—', 'Getting It Dunn'], ['1992', '\"As Long as You Belong to Me\"', '68', '—', 'Getting It Dunn'], ['1992', '\"Golden Years\"', '51', '62', 'Getting It Dunn'], ['1995', '\"I Am Who I Am\"', '56', '56', 'Life and Love and All the Stages'], ['1995', '\"Cowboys Are My Weakness\"', '—', '—', 'Life and Love and All the Stages'], ['1995', '\"It\\'s Not About Blame\"', '—', '—', 'Life and Love and All the Stages'], ['1997', '\"Leave One Bridge Standing\"', '—', '—', 'Leave One Bridge Standing'], ['\"—\" denotes releases that did not chart', '\"—\" denotes releases that did not chart', '\"—\" denotes releases that did not chart', '\"—\" denotes releases that did not chart', '\"—\" denotes releases that did not chart']]\n",
      "\n",
      "highlighted_cell_ids  |    [[8, 0], [9, 0], [9, 1], [9, 4], [10, 0], [10, 1], [10, 4]]\n",
      "\n",
      "question  |    What singles were Included in Across the Rio Grande in 1988?\n",
      "\n",
      "answer  |    Across the Rio Grande in 1988 included the singles \"That's What Your Love Does to Me\" and \"(It's Always Gonna Be) Someday\".\n",
      "\n",
      "source  |    mturk-approved\n",
      "\n"
     ]
    }
   ],
   "source": [
    "with option_context('display.max_colwidth', None):\n",
    "    keys = fetaqa_test_df[0:1]['data'][0][0].keys()\n",
    "    print(keys)\n",
    "    print()\n",
    "    for key in fetaqa_test_df[0:1]['data'][0][0]:\n",
    "        print(key, \" |   \", fetaqa_test_df[0:1]['data'][0][0][key])\n",
    "        print()"
   ]
  },
  {
   "cell_type": "code",
   "execution_count": 7,
   "metadata": {},
   "outputs": [
    {
     "name": "stdout",
     "output_type": "stream",
     "text": [
      "dict_keys(['feta_id', 'table_source_json', 'page_wikipedia_url', 'table_page_title', 'table_section_title', 'table_array', 'highlighted_cell_ids', 'question', 'answer', 'source'])\n",
      "\n",
      "feta_id  |    <class 'int'>\n",
      "\n",
      "table_source_json  |    <class 'str'>\n",
      "\n",
      "page_wikipedia_url  |    <class 'str'>\n",
      "\n",
      "table_page_title  |    <class 'str'>\n",
      "\n",
      "table_section_title  |    <class 'str'>\n",
      "\n",
      "table_array  |    <class 'list'>\n",
      "\n",
      "highlighted_cell_ids  |    <class 'list'>\n",
      "\n",
      "question  |    <class 'str'>\n",
      "\n",
      "answer  |    <class 'str'>\n",
      "\n",
      "source  |    <class 'str'>\n",
      "\n"
     ]
    }
   ],
   "source": [
    "with option_context('display.max_colwidth', None):\n",
    "    keys = fetaqa_test_df[0:1]['data'][0][0].keys()\n",
    "    print(keys)\n",
    "    print()\n",
    "    for key in fetaqa_test_df[0:1]['data'][0][0]:\n",
    "        print(key, \" |   \", type(fetaqa_test_df[0:1]['data'][0][0][key]))\n",
    "        print()"
   ]
  },
  {
   "cell_type": "code",
   "execution_count": 15,
   "metadata": {},
   "outputs": [
    {
     "name": "stdout",
     "output_type": "stream",
     "text": [
      "Index(['data'], dtype='object')\n",
      "dict_keys(['U', 'T', 'QAS', 'TBL'])\n",
      "\n",
      "U  |    https://ko.wikipedia.org/w/index.php?title=대한민국체신부\n",
      "\n",
      "T  |    대한민국체신부 역대 장·차관 체신부 차관\n",
      "\n",
      "QAS  |    {'qid': '17664_3', 'question': '나익진은 몇 대 체신부 차관을 지냈나요?', 'answer': '7대'}\n",
      "\n",
      "TBL  |    [['정부', '대수', '이름', '임기', '출신지', '출신학교', '비고'], ['제 1 공화국', '초대', '백홍균(白泓均)', '1948년 8월 10일 ~ 1948년 10월 31일', '한성(현 서울)', '서울대', ''], ['제 1 공화국', '2대', '박용하(朴容夏)', '1948년 11월 1일 ~ 1949년 7월 28일', '한성(현 서울)', '고려대', ''], ['제 1 공화국', '3대', '강직순(姜直淳)', '1949년 7월 29일 ~ 1952년 7월 4일', '경남 진주', '', '부산지방체신국장'], ['제 1 공화국', '4대', '김의창(金義昌)', '1952년 7월 5일 ~ 1955년 8월 19일', '충남 부여', '서울대', '체신부 보험국장'], ['제 1 공화국', '5대', '최재호(崔在鎬)', '1955년 10월 5일 ~ 1957년 3월 29일', '경북 대구(현 경북과 분리)', '서울대', '체신부 우정국장'], ['제 1 공화국', '6대', '조응천(曺應天)', '1957년 3월 30일 ~ 1960년 5월 5일', '평남 강서', '미국 트로이대', ''], ['제 1 공화국', '7대', '나익진(羅翼鎭)', '1960년 5월 6일 ~ 1960년 6월 2일', '전북 김제', '연세대', '상공부 차관&한국산업은행 총재'], ['제 1 공화국', '8대', '현근(玄槿)', '1960년 6월 3일 ~ 1960년 8월 18일', '함남', '미국브라하대', '외자구매처장&임시외자관리청장'], ['제 2 공화국', '9대', '김학준(金學俊)', '1960년 8월 26일 ~ 1961년 5월 19일', '충남 공주', '서울대', '제4·5대 국회의원'], ['제 2 공화국', '9대', '정완영(鄭梡永)', '1960년 9월 19일 ~ 1961년 6월 12일', '함남 영흥', '일본 와세다대', ''], ['제 2 공화국', '10대', '최재호(崔在鎬)', '1961년 7월 11일 ~ 1964년 2월 11일', '경북 대구(현 경북과 분리)', '서울대', '체신부 우정국장'], ['제 3 공화국', '10대', '최재호(崔在鎬)', '1961년 7월 11일 ~ 1964년 2월 11일', '경북 대구(현 경북과 분리)', '서울대', '체신부 우정국장'], ['제 3 공화국', '11대', '이진복(李晋馥)', '1964년 2월 17일 ~ 1966년 12월 28일', '경기 시흥', '일본 와세다대', ''], ['제 3 공화국', '12대', '임남수(林南秀)', '1966년 12월 29일 ~ 1969년 4월 28일', '전북 전주', '일본 주오대', '서울지방체신청장&체신부 국제전신전화국장·경리국장·기획관리실장'], ['제 3 공화국', '13대', '김형수(金炯洙)', '1969년 4월 29일 ~ 1971년 6월 11일', '전북 전주', '서울대', ''], ['제 3 공화국', '14대', '노원식(盧元植)', '1971년 6월 12일 ~ 1972년 10월 5일', '경남 창녕', '일본 센슈대', '서울지방체신청장&체신부 보험관리국장·경리국장·기획관리실장'], ['제 4 공화국', '15대', '최병권(崔秉權)', '1972년 10월 6일 ~ 1976년 4월 1일', '평남 대동', '국민대', '부산·서울지방체신청장&체신부 우정국장·전무국장'], ['제 4 공화국', '16대', '이경식(李經植)', '1976년 4월 2일 ~ 1979년 12월 19일', '경북 의성', '고려대', '경제부총리&한국은행 총재'], ['제 4 공화국', '17대', '정규석(鄭圭石)', '1979년 12월 20일 ~ 1981년 5월 27일', '경남 거창', '육사', '서울지방체신청장&체신부 계획국장·기획관리실장'], ['제 5 공화국', '17대', '정규석(鄭圭石)', '1979년 12월 20일 ~ 1981년 5월 27일', '경남 거창', '육사', '서울지방체신청장&체신부 계획국장·기획관리실장']]\n",
      "\n"
     ]
    }
   ],
   "source": [
    "import json, pandas as pd\n",
    "from pandas import option_context\n",
    "\n",
    "json_path = 'data/KorWikiTQ_ko_dev.json'\n",
    "korqikitq_dev_df = pd.read_json('data/KorWikiTQ_ko_dev.json', orient='records')\n",
    "\n",
    "with option_context('display.max_colwidth', None):\n",
    "    print(korqikitq_dev_df[0:1].columns)\n",
    "    keys = korqikitq_dev_df[0:1]['data'][0].keys()\n",
    "    print(keys)\n",
    "    print()\n",
    "    for key in keys:\n",
    "        print(key, \" |   \", korqikitq_dev_df[0:1]['data'][0][key])\n",
    "        print()"
   ]
  },
  {
   "cell_type": "code",
   "execution_count": 19,
   "metadata": {},
   "outputs": [
    {
     "name": "stdout",
     "output_type": "stream",
     "text": [
      "Index(['data'], dtype='object')\n",
      "dict_keys(['U', 'T', 'QAS', 'TBL'])\n",
      "\n",
      "feta_id  |    17664_3\n",
      "\n",
      "page_wikipedia_url  |    https://ko.wikipedia.org/w/index.php?title=대한민국체신부\n",
      "\n",
      "table_page_title  |    대한민국체신부\n",
      "\n",
      "table_section_title  |    대한민국체신부 역대 장·차관 체신부 차관\n",
      "\n",
      "table_array  |    [['정부', '대수', '이름', '임기', '출신지', '출신학교', '비고'], ['제 1 공화국', '초대', '백홍균(白泓均)', '1948년 8월 10일 ~ 1948년 10월 31일', '한성(현 서울)', '서울대', ''], ['제 1 공화국', '2대', '박용하(朴容夏)', '1948년 11월 1일 ~ 1949년 7월 28일', '한성(현 서울)', '고려대', ''], ['제 1 공화국', '3대', '강직순(姜直淳)', '1949년 7월 29일 ~ 1952년 7월 4일', '경남 진주', '', '부산지방체신국장'], ['제 1 공화국', '4대', '김의창(金義昌)', '1952년 7월 5일 ~ 1955년 8월 19일', '충남 부여', '서울대', '체신부 보험국장'], ['제 1 공화국', '5대', '최재호(崔在鎬)', '1955년 10월 5일 ~ 1957년 3월 29일', '경북 대구(현 경북과 분리)', '서울대', '체신부 우정국장'], ['제 1 공화국', '6대', '조응천(曺應天)', '1957년 3월 30일 ~ 1960년 5월 5일', '평남 강서', '미국 트로이대', ''], ['제 1 공화국', '7대', '나익진(羅翼鎭)', '1960년 5월 6일 ~ 1960년 6월 2일', '전북 김제', '연세대', '상공부 차관&한국산업은행 총재'], ['제 1 공화국', '8대', '현근(玄槿)', '1960년 6월 3일 ~ 1960년 8월 18일', '함남', '미국브라하대', '외자구매처장&임시외자관리청장'], ['제 2 공화국', '9대', '김학준(金學俊)', '1960년 8월 26일 ~ 1961년 5월 19일', '충남 공주', '서울대', '제4·5대 국회의원'], ['제 2 공화국', '9대', '정완영(鄭梡永)', '1960년 9월 19일 ~ 1961년 6월 12일', '함남 영흥', '일본 와세다대', ''], ['제 2 공화국', '10대', '최재호(崔在鎬)', '1961년 7월 11일 ~ 1964년 2월 11일', '경북 대구(현 경북과 분리)', '서울대', '체신부 우정국장'], ['제 3 공화국', '10대', '최재호(崔在鎬)', '1961년 7월 11일 ~ 1964년 2월 11일', '경북 대구(현 경북과 분리)', '서울대', '체신부 우정국장'], ['제 3 공화국', '11대', '이진복(李晋馥)', '1964년 2월 17일 ~ 1966년 12월 28일', '경기 시흥', '일본 와세다대', ''], ['제 3 공화국', '12대', '임남수(林南秀)', '1966년 12월 29일 ~ 1969년 4월 28일', '전북 전주', '일본 주오대', '서울지방체신청장&체신부 국제전신전화국장·경리국장·기획관리실장'], ['제 3 공화국', '13대', '김형수(金炯洙)', '1969년 4월 29일 ~ 1971년 6월 11일', '전북 전주', '서울대', ''], ['제 3 공화국', '14대', '노원식(盧元植)', '1971년 6월 12일 ~ 1972년 10월 5일', '경남 창녕', '일본 센슈대', '서울지방체신청장&체신부 보험관리국장·경리국장·기획관리실장'], ['제 4 공화국', '15대', '최병권(崔秉權)', '1972년 10월 6일 ~ 1976년 4월 1일', '평남 대동', '국민대', '부산·서울지방체신청장&체신부 우정국장·전무국장'], ['제 4 공화국', '16대', '이경식(李經植)', '1976년 4월 2일 ~ 1979년 12월 19일', '경북 의성', '고려대', '경제부총리&한국은행 총재'], ['제 4 공화국', '17대', '정규석(鄭圭石)', '1979년 12월 20일 ~ 1981년 5월 27일', '경남 거창', '육사', '서울지방체신청장&체신부 계획국장·기획관리실장'], ['제 5 공화국', '17대', '정규석(鄭圭石)', '1979년 12월 20일 ~ 1981년 5월 27일', '경남 거창', '육사', '서울지방체신청장&체신부 계획국장·기획관리실장']]\n",
      "\n",
      "question  |    나익진은 몇 대 체신부 차관을 지냈나요?\n",
      "\n",
      "answer  |    7대\n",
      "\n"
     ]
    }
   ],
   "source": [
    "with option_context('display.max_colwidth', None):\n",
    "    print(korqikitq_dev_df[0:1].columns)\n",
    "    keys = korqikitq_dev_df[0:1]['data'][0].keys()\n",
    "    print(keys)\n",
    "    print()\n",
    "\n",
    "    print('feta_id', \" |   \", korqikitq_dev_df[0:1]['data'][0]['QAS']['qid'])\n",
    "    print()\n",
    "\n",
    "    print('page_wikipedia_url', \" |   \", korqikitq_dev_df[0:1]['data'][0]['U'])\n",
    "    print()\n",
    "\n",
    "    print('table_page_title', \" |   \", korqikitq_dev_df[0:1]['data'][0]['U'].split(\"=\")[-1])\n",
    "    print()\n",
    "\n",
    "    print('table_section_title', \" |   \", korqikitq_dev_df[0:1]['data'][0]['T'])\n",
    "    print()\n",
    "\n",
    "    print('table_array', \" |   \", korqikitq_dev_df[0:1]['data'][0]['TBL'])\n",
    "    print()\n",
    "\n",
    "    print('question', \" |   \", korqikitq_dev_df[0:1]['data'][0]['QAS']['question'])\n",
    "    print()\n",
    "\n",
    "    print('answer', \" |   \", korqikitq_dev_df[0:1]['data'][0]['QAS']['answer'])\n",
    "    print()"
   ]
  },
  {
   "cell_type": "code",
   "execution_count": 49,
   "metadata": {},
   "outputs": [
    {
     "name": "stderr",
     "output_type": "stream",
     "text": [
      "File - KorWikiTQ_ko_train.json: 100%|██████████| 58221/58221 [09:41<00:00, 100.18it/s]\n"
     ]
    }
   ],
   "source": [
    "import tqdm\n",
    "import json\n",
    "import pandas as pd\n",
    "\n",
    "json_paths = ['data/KorWikiTQ_ko_train.json'] # , 'data/KorWikiTQ_ko_dev.json']\n",
    "\n",
    "for json_path in json_paths:\n",
    "\n",
    "    if 'train' in json_path: split_part = 'train'\n",
    "    elif 'dev' in json_path: split_part = 'dev'\n",
    "\n",
    "\n",
    "    korqikitq_df = pd.read_json(json_path, orient='records')\n",
    "\n",
    "    converted_korqikitq_df = pd.DataFrame({'feta_id':[0], \n",
    "                                        'page_wikipedia_url':[\"A\"],\n",
    "                                        'table_page_title':[\"A\"], \n",
    "                                        'table_section_title':[\"A\"],\n",
    "                                        'table_array':[[\"3\"]], \n",
    "                                        'question':[\"A\"],                                   \n",
    "                                        'answer':[\"A\"]\n",
    "                                        })   \n",
    "\n",
    "    num = -1\n",
    "    with tqdm.tqdm(korqikitq_df['data']) as pbar:\n",
    "        pbar.set_description(f'File - {json_path.split(\"/\")[-1]}')\n",
    "        for korqikitq_line in pbar:\n",
    "            num += 1\n",
    "            if 'train' in json_path:\n",
    "                if num != 56185: \n",
    "                    qid = korqikitq_line['QAS']['qid']; url = korqikitq_line['U']\n",
    "                    table_page_title = url.split(\"=\")[-1]; table_section_title = korqikitq_line['T']\n",
    "                    table_array = korqikitq_line['TBL']; question = korqikitq_line['QAS']['question']\n",
    "                    answer = korqikitq_line['QAS']['answer']\n",
    "\n",
    "                    try:\n",
    "                        converted_korqikitq_df.loc[num] = [qid, url, table_page_title, table_section_title,\n",
    "                                                                table_array, question, answer]\n",
    "                        converted_korqikitq_df = converted_korqikitq_df.astype({'feta_id':'int'})  \n",
    "                    except:\n",
    "                        pass\n",
    "\n",
    "            if 'dev' in json_path:\n",
    "                qid = korqikitq_line['QAS']['qid']; url = korqikitq_line['U']\n",
    "                table_page_title = url.split(\"=\")[-1]; table_section_title = korqikitq_line['T']\n",
    "                table_array = korqikitq_line['TBL']; question = korqikitq_line['QAS']['question']\n",
    "                answer = korqikitq_line['QAS']['answer']\n",
    "\n",
    "                try:\n",
    "                    converted_korqikitq_df.loc[num] = [qid, url, table_page_title, table_section_title,\n",
    "                                                            table_array, question, answer]\n",
    "                    converted_korqikitq_df = converted_korqikitq_df.astype({'feta_id':'int'})  \n",
    "                except:\n",
    "                    pass             \n",
    "\n",
    "        pbar.close()\n",
    "    converted_korqikitq_df = converted_korqikitq_df.drop(0)\n",
    "    save_json_path = json_path.replace(\".json\", \"_convert.json\").replace(\"data\", \"data6\")\n",
    "\n",
    "\n",
    "    with open(save_json_path, 'w', encoding='utf-8') as file:\n",
    "        converted_korqikitq_df.to_json(file, orient='table', indent = 4, index=False, force_ascii=True)\n",
    "\n",
    "    with open(save_json_path, \"r\", encoding='utf-8') as f:\n",
    "        fetaqa_convert_json = json.load(f)\n",
    "    f.close()\n",
    "\n",
    "    fetaqa_convert_json = {'version': 'v2',\n",
    "                'split': split_part,\n",
    "                'data': fetaqa_convert_json['data']}\n",
    "\n",
    "    with open(save_json_path, 'w', encoding='utf-8') as f:\n",
    "        json.dump(fetaqa_convert_json, f, ensure_ascii=True)\n",
    "        \n",
    "    f.close()"
   ]
  },
  {
   "cell_type": "markdown",
   "metadata": {},
   "source": [
    "### Korean Text Preprocessing "
   ]
  },
  {
   "cell_type": "code",
   "execution_count": 100,
   "metadata": {},
   "outputs": [],
   "source": [
    "json_path = 'data/FeTaQA/fetaQA-v1_test.json'\n",
    "with open(json_path, \"r\", encoding='utf-8') as f:\n",
    "    fetaqa_json = json.load(f)\n",
    "\n",
    "fetaqa_df = pd.json_normalize(fetaqa_json['data'])  \n",
    "fetaqa_df = fetaqa_df[['feta_id', 'table_page_title', 'table_section_title', 'table_array', 'question', 'answer']]\n",
    "fetaqa_table_answer = fetaqa_df[['answer']]\n",
    "fetaqa_table_array = fetaqa_df[['table_array', 'answer']]"
   ]
  },
  {
   "cell_type": "code",
   "execution_count": 126,
   "metadata": {},
   "outputs": [],
   "source": [
    "json_path = 'data/KorWikiTQ_all/KorWikiTQ_ko_test_convert.json'\n",
    "with open(json_path, \"r\", encoding='utf-8') as f:\n",
    "    korwikitq_json = json.load(f)\n",
    "\n",
    "korwikitq_df = pd.json_normalize(korwikitq_json['data'])  \n",
    "korwikitq_df = korwikitq_df[['feta_id', 'table_page_title', 'table_section_title', 'table_array', 'question', 'answer']]\n",
    "korwikitq_table_array = korwikitq_df[['table_array']]\n",
    "korwikitq_answer = korwikitq_df[['answer']]"
   ]
  },
  {
   "cell_type": "code",
   "execution_count": null,
   "metadata": {},
   "outputs": [],
   "source": [
    "for answer, table_array in zip(korwikitq_answer['answer'], korwikitq_table_array['table_array']):\n",
    "    if '소레와타세' in answer:\n",
    "        print(answer)\n",
    "        print(table_array)"
   ]
  },
  {
   "cell_type": "code",
   "execution_count": null,
   "metadata": {},
   "outputs": [],
   "source": [
    "range_number = 5\n",
    "start_number = 0\n",
    "\n",
    "with option_context('display.max_row', None) and option_context('display.max_colwidth', None):\n",
    "    display(fetaqa_table_array[start_number:start_number+range_number])\n",
    "\n",
    "print(\"\\n\\n\")\n",
    "\n",
    "with option_context('display.max_row', None) and option_context('display.max_colwidth', None):\n",
    "    display(korwikitq_table_array[start_number:start_number+range_number])"
   ]
  },
  {
   "cell_type": "code",
   "execution_count": 14,
   "metadata": {},
   "outputs": [
    {
     "data": {
      "text/html": [
       "<div>\n",
       "<style scoped>\n",
       "    .dataframe tbody tr th:only-of-type {\n",
       "        vertical-align: middle;\n",
       "    }\n",
       "\n",
       "    .dataframe tbody tr th {\n",
       "        vertical-align: top;\n",
       "    }\n",
       "\n",
       "    .dataframe thead th {\n",
       "        text-align: right;\n",
       "    }\n",
       "</style>\n",
       "<table border=\"1\" class=\"dataframe\">\n",
       "  <thead>\n",
       "    <tr style=\"text-align: right;\">\n",
       "      <th></th>\n",
       "      <th>question</th>\n",
       "      <th>table_array</th>\n",
       "      <th>answer</th>\n",
       "    </tr>\n",
       "  </thead>\n",
       "  <tbody>\n",
       "    <tr>\n",
       "      <th>0</th>\n",
       "      <td>2007년 8월 22일 대한민국 축구 국가대표팀 은퇴식을 거행한 서정원 선수의 활동기간은 얼마나 되나요?</td>\n",
       "      <td>[[거행일, 이름, 포지션, 등번호, 경기, 활동 기간, 장소], [2002년 11월 20일, 황선홍, 공격수, 18, 103, 1988–2002, 서울월드컵경기장], [2002년 11월 20일, 홍명보, 수비수, 20, 136, 1990–2002, 서울월드컵경기장], [2003년 4월 16일, 하석주, 미드필더, -, 94, 1991–2001, 서울월드컵경기장], [2005년 11월 12일, 김태영, 수비수, -, 105, 1992–2004, 서울월드컵경기장], [2006년 3월 1일, 김도훈, 공격수, -, 72, 1994–2003, 서울월드컵경기장], [2006년 5월 26일, 유상철, 미드필더, 6, 124, 1994–2005, 서울월드컵경기장], [2007년 8월 22일, 서정원, 공격수, -, 87, 1990–2001, 서울월드컵경기장], [2010년 8월 11일, 이운재, 골키퍼, 1, 133, 1994–2010, 수원월드컵경기장], [2012년 2월 29일, 안정환, 공격수, 9, 71, 1997–2010, 서울월드컵경기장], [2013년 11월 15일, 이영표, 수비수, 12, 127, 1999–2011, 서울월드컵경기장], [2014년 7월 25일, 박지성, 미드필더, 7, 100, 2000–2011, 서울월드컵경기장], [2015년 3월 31일, 차두리, 수비수, 22, 76, 2001–2015, 서울월드컵경기장], [2015년 10월 13일, 설기현, 공격수, -, 82, 2000–2009, 서울월드컵경기장], [2016년 3월 24일, 이천수, 공격수, -, 78, 2000–2008, 안산 와 스타디움], [2019년 3월 22일, 김정우, 미드필더, -, 76, 2003-2012, 울산 문수 경기장]]</td>\n",
       "      <td>1990–2001</td>\n",
       "    </tr>\n",
       "  </tbody>\n",
       "</table>\n",
       "</div>"
      ],
      "text/plain": [
       "                                                     question  \\\n",
       "0  2007년 8월 22일 대한민국 축구 국가대표팀 은퇴식을 거행한 서정원 선수의 활동기간은 얼마나 되나요?   \n",
       "\n",
       "                                                                                                                                                                                                                                                                                                                                                                                                                                                                                                                                                                                                                                                                                                                                                                                                                                                                                           table_array  \\\n",
       "0  [[거행일, 이름, 포지션, 등번호, 경기, 활동 기간, 장소], [2002년 11월 20일, 황선홍, 공격수, 18, 103, 1988–2002, 서울월드컵경기장], [2002년 11월 20일, 홍명보, 수비수, 20, 136, 1990–2002, 서울월드컵경기장], [2003년 4월 16일, 하석주, 미드필더, -, 94, 1991–2001, 서울월드컵경기장], [2005년 11월 12일, 김태영, 수비수, -, 105, 1992–2004, 서울월드컵경기장], [2006년 3월 1일, 김도훈, 공격수, -, 72, 1994–2003, 서울월드컵경기장], [2006년 5월 26일, 유상철, 미드필더, 6, 124, 1994–2005, 서울월드컵경기장], [2007년 8월 22일, 서정원, 공격수, -, 87, 1990–2001, 서울월드컵경기장], [2010년 8월 11일, 이운재, 골키퍼, 1, 133, 1994–2010, 수원월드컵경기장], [2012년 2월 29일, 안정환, 공격수, 9, 71, 1997–2010, 서울월드컵경기장], [2013년 11월 15일, 이영표, 수비수, 12, 127, 1999–2011, 서울월드컵경기장], [2014년 7월 25일, 박지성, 미드필더, 7, 100, 2000–2011, 서울월드컵경기장], [2015년 3월 31일, 차두리, 수비수, 22, 76, 2001–2015, 서울월드컵경기장], [2015년 10월 13일, 설기현, 공격수, -, 82, 2000–2009, 서울월드컵경기장], [2016년 3월 24일, 이천수, 공격수, -, 78, 2000–2008, 안산 와 스타디움], [2019년 3월 22일, 김정우, 미드필더, -, 76, 2003-2012, 울산 문수 경기장]]   \n",
       "\n",
       "      answer  \n",
       "0  1990–2001  "
      ]
     },
     "metadata": {},
     "output_type": "display_data"
    }
   ],
   "source": [
    "json_path = 'data/KorWikiTQ_all/KorWikiTQ_ko_train_convert.json'\n",
    "with open(json_path, \"r\", encoding='utf-8') as f:\n",
    "    korwikitq_json = json.load(f)\n",
    "\n",
    "korwikitq_df = pd.json_normalize(korwikitq_json['data'])  \n",
    "korwikitq_question = korwikitq_df[['question', 'table_array', 'answer']]\n",
    "\n",
    "with option_context('display.max_row', None):\n",
    "    with option_context('display.max_colwidth', None):\n",
    "        display(korwikitq_question[:1])"
   ]
  },
  {
   "cell_type": "code",
   "execution_count": 25,
   "metadata": {},
   "outputs": [
    {
     "data": {
      "text/html": [
       "<div>\n",
       "<style scoped>\n",
       "    .dataframe tbody tr th:only-of-type {\n",
       "        vertical-align: middle;\n",
       "    }\n",
       "\n",
       "    .dataframe tbody tr th {\n",
       "        vertical-align: top;\n",
       "    }\n",
       "\n",
       "    .dataframe thead th {\n",
       "        text-align: right;\n",
       "    }\n",
       "</style>\n",
       "<table border=\"1\" class=\"dataframe\">\n",
       "  <thead>\n",
       "    <tr style=\"text-align: right;\">\n",
       "      <th></th>\n",
       "      <th>question</th>\n",
       "      <th>table_array</th>\n",
       "      <th>answer</th>\n",
       "    </tr>\n",
       "  </thead>\n",
       "  <tbody>\n",
       "    <tr>\n",
       "      <th>179</th>\n",
       "      <td>개그쇼 난생처음의 1회차 내용은 무엇인가요?</td>\n",
       "      <td>[[회차, 방송 일자, 내용, 게스트, 출연자, 비고], [1, 2010년 11월 4일, 호란의 위클리 뉴스불꽃 심사단내맘대로 정신 클리닉네 죄를 네가 알렸다땅따먹기 제왕전방랑 작곡가 방삿갓김종서와 난생처음 친구들, 김종서, , ], [2, 2010년 11월 11일, 불꽃 심사단호란의 위클리 뉴스내맘대로 정신 클리닉네 죄를 네가 알렸다발당구 제왕전괜찮아 괜찮아방랑 작곡가 방삿갓FT 아일랜드와 난생처음 친구들, FT 아일랜드, 레인보우, ], [3, 2010년 12월 2일, 우리 좀 솔직해져 볼까내맘대로 정신 클리닉네 죄를 네가 알렸다푸드파이터 제왕전호란의 위클리 뉴스2PM와 난생처음 친구들, 2PM, , ], [4, 2010년 12월 9일, 우리 좀 솔직해져 볼까호란의 위클리 뉴스내맘대로 정신 클리닉네 죄를 네가 알렸다고무줄 대결샤이니와 난생처음 친구들, 샤이니, 레인보우, ], [5, 2010년 12월 16일, 진짜 팬이예요호란의 위클리 뉴스내 맘대로 장학퀴즈초능력자네 죄를 네가 알렸다우리 좀 솔직해져 볼까김장훈와 난생처음 친구들, 김장훈, , ], [6, 2010년 12월 23일, 호란의 위클리 뉴스초능력자네 죄를 네가 알렸다우리 좀 솔직해져 볼까활 쏘기 제왕전SG워너비와 난생처음 친구들, SG워너비, , ]]</td>\n",
       "      <td>호란의 위클리 뉴스불꽃 심사단내맘대로 정신 클리닉네 죄를 네가 알렸다땅따먹기 제왕전방랑 작곡가 방삿갓김종서와 난생처음 친구들</td>\n",
       "    </tr>\n",
       "    <tr>\n",
       "      <th>180</th>\n",
       "      <td>2010년 11월 11일에 방영된 개그쇼 난생처음 2회차 내용은 무엇인가요?</td>\n",
       "      <td>[[회차, 방송 일자, 내용, 게스트, 출연자, 비고], [1, 2010년 11월 4일, 호란의 위클리 뉴스불꽃 심사단내맘대로 정신 클리닉네 죄를 네가 알렸다땅따먹기 제왕전방랑 작곡가 방삿갓김종서와 난생처음 친구들, 김종서, , ], [2, 2010년 11월 11일, 불꽃 심사단호란의 위클리 뉴스내맘대로 정신 클리닉네 죄를 네가 알렸다발당구 제왕전괜찮아 괜찮아방랑 작곡가 방삿갓FT 아일랜드와 난생처음 친구들, FT 아일랜드, 레인보우, ], [3, 2010년 12월 2일, 우리 좀 솔직해져 볼까내맘대로 정신 클리닉네 죄를 네가 알렸다푸드파이터 제왕전호란의 위클리 뉴스2PM와 난생처음 친구들, 2PM, , ], [4, 2010년 12월 9일, 우리 좀 솔직해져 볼까호란의 위클리 뉴스내맘대로 정신 클리닉네 죄를 네가 알렸다고무줄 대결샤이니와 난생처음 친구들, 샤이니, 레인보우, ], [5, 2010년 12월 16일, 진짜 팬이예요호란의 위클리 뉴스내 맘대로 장학퀴즈초능력자네 죄를 네가 알렸다우리 좀 솔직해져 볼까김장훈와 난생처음 친구들, 김장훈, , ], [6, 2010년 12월 23일, 호란의 위클리 뉴스초능력자네 죄를 네가 알렸다우리 좀 솔직해져 볼까활 쏘기 제왕전SG워너비와 난생처음 친구들, SG워너비, , ]]</td>\n",
       "      <td>불꽃 심사단호란의 위클리 뉴스내맘대로 정신 클리닉네 죄를 네가 알렸다발당구 제왕전괜찮아 괜찮아방랑 작곡가 방삿갓FT 아일랜드와 난생처음 친구들</td>\n",
       "    </tr>\n",
       "    <tr>\n",
       "      <th>181</th>\n",
       "      <td>개그쇼 난생처음에 게스트로 2PM이 출연한 에피소드의 내용은 무엇인가요?</td>\n",
       "      <td>[[회차, 방송 일자, 내용, 게스트, 출연자, 비고], [1, 2010년 11월 4일, 호란의 위클리 뉴스불꽃 심사단내맘대로 정신 클리닉네 죄를 네가 알렸다땅따먹기 제왕전방랑 작곡가 방삿갓김종서와 난생처음 친구들, 김종서, , ], [2, 2010년 11월 11일, 불꽃 심사단호란의 위클리 뉴스내맘대로 정신 클리닉네 죄를 네가 알렸다발당구 제왕전괜찮아 괜찮아방랑 작곡가 방삿갓FT 아일랜드와 난생처음 친구들, FT 아일랜드, 레인보우, ], [3, 2010년 12월 2일, 우리 좀 솔직해져 볼까내맘대로 정신 클리닉네 죄를 네가 알렸다푸드파이터 제왕전호란의 위클리 뉴스2PM와 난생처음 친구들, 2PM, , ], [4, 2010년 12월 9일, 우리 좀 솔직해져 볼까호란의 위클리 뉴스내맘대로 정신 클리닉네 죄를 네가 알렸다고무줄 대결샤이니와 난생처음 친구들, 샤이니, 레인보우, ], [5, 2010년 12월 16일, 진짜 팬이예요호란의 위클리 뉴스내 맘대로 장학퀴즈초능력자네 죄를 네가 알렸다우리 좀 솔직해져 볼까김장훈와 난생처음 친구들, 김장훈, , ], [6, 2010년 12월 23일, 호란의 위클리 뉴스초능력자네 죄를 네가 알렸다우리 좀 솔직해져 볼까활 쏘기 제왕전SG워너비와 난생처음 친구들, SG워너비, , ]]</td>\n",
       "      <td>우리 좀 솔직해져 볼까내맘대로 정신 클리닉네 죄를 네가 알렸다푸드파이터 제왕전호란의 위클리 뉴스2PM와 난생처음 친구들</td>\n",
       "    </tr>\n",
       "    <tr>\n",
       "      <th>182</th>\n",
       "      <td>개그쇼 난생처음의 6회 컨텐츠는 무엇이었나요?</td>\n",
       "      <td>[[회차, 방송 일자, 내용, 게스트, 출연자, 비고], [1, 2010년 11월 4일, 호란의 위클리 뉴스불꽃 심사단내맘대로 정신 클리닉네 죄를 네가 알렸다땅따먹기 제왕전방랑 작곡가 방삿갓김종서와 난생처음 친구들, 김종서, , ], [2, 2010년 11월 11일, 불꽃 심사단호란의 위클리 뉴스내맘대로 정신 클리닉네 죄를 네가 알렸다발당구 제왕전괜찮아 괜찮아방랑 작곡가 방삿갓FT 아일랜드와 난생처음 친구들, FT 아일랜드, 레인보우, ], [3, 2010년 12월 2일, 우리 좀 솔직해져 볼까내맘대로 정신 클리닉네 죄를 네가 알렸다푸드파이터 제왕전호란의 위클리 뉴스2PM와 난생처음 친구들, 2PM, , ], [4, 2010년 12월 9일, 우리 좀 솔직해져 볼까호란의 위클리 뉴스내맘대로 정신 클리닉네 죄를 네가 알렸다고무줄 대결샤이니와 난생처음 친구들, 샤이니, 레인보우, ], [5, 2010년 12월 16일, 진짜 팬이예요호란의 위클리 뉴스내 맘대로 장학퀴즈초능력자네 죄를 네가 알렸다우리 좀 솔직해져 볼까김장훈와 난생처음 친구들, 김장훈, , ], [6, 2010년 12월 23일, 호란의 위클리 뉴스초능력자네 죄를 네가 알렸다우리 좀 솔직해져 볼까활 쏘기 제왕전SG워너비와 난생처음 친구들, SG워너비, , ]]</td>\n",
       "      <td>호란의 위클리 뉴스초능력자네 죄를 네가 알렸다우리 좀 솔직해져 볼까활 쏘기 제왕전SG워너비와 난생처음 친구들</td>\n",
       "    </tr>\n",
       "    <tr>\n",
       "      <th>183</th>\n",
       "      <td>울산 현대 축구단의 4대 감독은 누구인가요?</td>\n",
       "      <td>[[순번, 이름, 취임일자, 사임일자, 재임시즌, 비고], [1대, 문정식, 1983/07/12, 1986/04/22, 1984–1986, 구단 초대 감독구단 최초 시즌 도중 사퇴한 감독], [대행, 조중연, 1986/04/22, 1986/12/??, 1986, 구단 최초 감독대행1986시즌 감독대행 수행 후 1987시즌부터 정식 감독으로 승격구단 최초 리그컵 우승 감독], [2대, 조중연, 1986/12/??, 1987/12/30, 1987, 구단 최초 감독대행1986시즌 감독대행 수행 후 1987시즌부터 정식 감독으로 승격구단 최초 리그컵 우승 감독], [3대, 김호, 1987/12/30, 1990/11/19, 1988–1990, ], [4대, 차범근, 1990/11/23, 1994/11/27, 1991–1994, 구단 역대 최연소 취임 감독 (38세)], [5대, 고재욱, 1994/11/30, 2000/06/12, 1995–2000, 1996 구단 최초 K리그 우승 감독구단 2번째 리그컵 우승 (2회) 감독구단 2번째 시즌 도중 사퇴한 감독], [대행, 정종수, 2000/06/12, 2000/08/21, 2000, 구단 2번째 감독대행], [6대, 김정남, 2000/08/22, 2008/12/25, 2000–2008, 구단 역대 최장수 감독 (9시즌)2005 구단 2번째 K리그 우승 감독구단 3번째 리그컵 우승 감독], [7대, 김호곤, 2008/12/26, 2013/12/04, 2009–2013, 2012 구단 최초 챔피언스리그 우승 감독구단 4번째 리그컵 우승 감독], [8대, 조민국, 2013/12/06, 2014/12/01, 2014, ], [9대, 윤정환, 2014/12/01, 2016/11/14, 2015–2016, ], [10대, 김도훈, 2016/11/21, , 2017–현재, 2017 구단 최초 FA컵 우승 감독]]</td>\n",
       "      <td>차범근</td>\n",
       "    </tr>\n",
       "    <tr>\n",
       "      <th>184</th>\n",
       "      <td>울산 현대 축구단의 5대 감독 고재욱의 취임일은 언제인가요?</td>\n",
       "      <td>[[순번, 이름, 취임일자, 사임일자, 재임시즌, 비고], [1대, 문정식, 1983/07/12, 1986/04/22, 1984–1986, 구단 초대 감독구단 최초 시즌 도중 사퇴한 감독], [대행, 조중연, 1986/04/22, 1986/12/??, 1986, 구단 최초 감독대행1986시즌 감독대행 수행 후 1987시즌부터 정식 감독으로 승격구단 최초 리그컵 우승 감독], [2대, 조중연, 1986/12/??, 1987/12/30, 1987, 구단 최초 감독대행1986시즌 감독대행 수행 후 1987시즌부터 정식 감독으로 승격구단 최초 리그컵 우승 감독], [3대, 김호, 1987/12/30, 1990/11/19, 1988–1990, ], [4대, 차범근, 1990/11/23, 1994/11/27, 1991–1994, 구단 역대 최연소 취임 감독 (38세)], [5대, 고재욱, 1994/11/30, 2000/06/12, 1995–2000, 1996 구단 최초 K리그 우승 감독구단 2번째 리그컵 우승 (2회) 감독구단 2번째 시즌 도중 사퇴한 감독], [대행, 정종수, 2000/06/12, 2000/08/21, 2000, 구단 2번째 감독대행], [6대, 김정남, 2000/08/22, 2008/12/25, 2000–2008, 구단 역대 최장수 감독 (9시즌)2005 구단 2번째 K리그 우승 감독구단 3번째 리그컵 우승 감독], [7대, 김호곤, 2008/12/26, 2013/12/04, 2009–2013, 2012 구단 최초 챔피언스리그 우승 감독구단 4번째 리그컵 우승 감독], [8대, 조민국, 2013/12/06, 2014/12/01, 2014, ], [9대, 윤정환, 2014/12/01, 2016/11/14, 2015–2016, ], [10대, 김도훈, 2016/11/21, , 2017–현재, 2017 구단 최초 FA컵 우승 감독]]</td>\n",
       "      <td>1994/11/30</td>\n",
       "    </tr>\n",
       "  </tbody>\n",
       "</table>\n",
       "</div>"
      ],
      "text/plain": [
       "                                       question  \\\n",
       "179                    개그쇼 난생처음의 1회차 내용은 무엇인가요?   \n",
       "180  2010년 11월 11일에 방영된 개그쇼 난생처음 2회차 내용은 무엇인가요?   \n",
       "181    개그쇼 난생처음에 게스트로 2PM이 출연한 에피소드의 내용은 무엇인가요?   \n",
       "182                   개그쇼 난생처음의 6회 컨텐츠는 무엇이었나요?   \n",
       "183                    울산 현대 축구단의 4대 감독은 누구인가요?   \n",
       "184           울산 현대 축구단의 5대 감독 고재욱의 취임일은 언제인가요?   \n",
       "\n",
       "                                                                                                                                                                                                                                                                                                                                                                                                                                                                                                                                                                                                                                                                                                                                                                                                                                                                                                                                                            table_array  \\\n",
       "179                                                                                                                                                                                                                                                                                                            [[회차, 방송 일자, 내용, 게스트, 출연자, 비고], [1, 2010년 11월 4일, 호란의 위클리 뉴스불꽃 심사단내맘대로 정신 클리닉네 죄를 네가 알렸다땅따먹기 제왕전방랑 작곡가 방삿갓김종서와 난생처음 친구들, 김종서, , ], [2, 2010년 11월 11일, 불꽃 심사단호란의 위클리 뉴스내맘대로 정신 클리닉네 죄를 네가 알렸다발당구 제왕전괜찮아 괜찮아방랑 작곡가 방삿갓FT 아일랜드와 난생처음 친구들, FT 아일랜드, 레인보우, ], [3, 2010년 12월 2일, 우리 좀 솔직해져 볼까내맘대로 정신 클리닉네 죄를 네가 알렸다푸드파이터 제왕전호란의 위클리 뉴스2PM와 난생처음 친구들, 2PM, , ], [4, 2010년 12월 9일, 우리 좀 솔직해져 볼까호란의 위클리 뉴스내맘대로 정신 클리닉네 죄를 네가 알렸다고무줄 대결샤이니와 난생처음 친구들, 샤이니, 레인보우, ], [5, 2010년 12월 16일, 진짜 팬이예요호란의 위클리 뉴스내 맘대로 장학퀴즈초능력자네 죄를 네가 알렸다우리 좀 솔직해져 볼까김장훈와 난생처음 친구들, 김장훈, , ], [6, 2010년 12월 23일, 호란의 위클리 뉴스초능력자네 죄를 네가 알렸다우리 좀 솔직해져 볼까활 쏘기 제왕전SG워너비와 난생처음 친구들, SG워너비, , ]]   \n",
       "180                                                                                                                                                                                                                                                                                                            [[회차, 방송 일자, 내용, 게스트, 출연자, 비고], [1, 2010년 11월 4일, 호란의 위클리 뉴스불꽃 심사단내맘대로 정신 클리닉네 죄를 네가 알렸다땅따먹기 제왕전방랑 작곡가 방삿갓김종서와 난생처음 친구들, 김종서, , ], [2, 2010년 11월 11일, 불꽃 심사단호란의 위클리 뉴스내맘대로 정신 클리닉네 죄를 네가 알렸다발당구 제왕전괜찮아 괜찮아방랑 작곡가 방삿갓FT 아일랜드와 난생처음 친구들, FT 아일랜드, 레인보우, ], [3, 2010년 12월 2일, 우리 좀 솔직해져 볼까내맘대로 정신 클리닉네 죄를 네가 알렸다푸드파이터 제왕전호란의 위클리 뉴스2PM와 난생처음 친구들, 2PM, , ], [4, 2010년 12월 9일, 우리 좀 솔직해져 볼까호란의 위클리 뉴스내맘대로 정신 클리닉네 죄를 네가 알렸다고무줄 대결샤이니와 난생처음 친구들, 샤이니, 레인보우, ], [5, 2010년 12월 16일, 진짜 팬이예요호란의 위클리 뉴스내 맘대로 장학퀴즈초능력자네 죄를 네가 알렸다우리 좀 솔직해져 볼까김장훈와 난생처음 친구들, 김장훈, , ], [6, 2010년 12월 23일, 호란의 위클리 뉴스초능력자네 죄를 네가 알렸다우리 좀 솔직해져 볼까활 쏘기 제왕전SG워너비와 난생처음 친구들, SG워너비, , ]]   \n",
       "181                                                                                                                                                                                                                                                                                                            [[회차, 방송 일자, 내용, 게스트, 출연자, 비고], [1, 2010년 11월 4일, 호란의 위클리 뉴스불꽃 심사단내맘대로 정신 클리닉네 죄를 네가 알렸다땅따먹기 제왕전방랑 작곡가 방삿갓김종서와 난생처음 친구들, 김종서, , ], [2, 2010년 11월 11일, 불꽃 심사단호란의 위클리 뉴스내맘대로 정신 클리닉네 죄를 네가 알렸다발당구 제왕전괜찮아 괜찮아방랑 작곡가 방삿갓FT 아일랜드와 난생처음 친구들, FT 아일랜드, 레인보우, ], [3, 2010년 12월 2일, 우리 좀 솔직해져 볼까내맘대로 정신 클리닉네 죄를 네가 알렸다푸드파이터 제왕전호란의 위클리 뉴스2PM와 난생처음 친구들, 2PM, , ], [4, 2010년 12월 9일, 우리 좀 솔직해져 볼까호란의 위클리 뉴스내맘대로 정신 클리닉네 죄를 네가 알렸다고무줄 대결샤이니와 난생처음 친구들, 샤이니, 레인보우, ], [5, 2010년 12월 16일, 진짜 팬이예요호란의 위클리 뉴스내 맘대로 장학퀴즈초능력자네 죄를 네가 알렸다우리 좀 솔직해져 볼까김장훈와 난생처음 친구들, 김장훈, , ], [6, 2010년 12월 23일, 호란의 위클리 뉴스초능력자네 죄를 네가 알렸다우리 좀 솔직해져 볼까활 쏘기 제왕전SG워너비와 난생처음 친구들, SG워너비, , ]]   \n",
       "182                                                                                                                                                                                                                                                                                                            [[회차, 방송 일자, 내용, 게스트, 출연자, 비고], [1, 2010년 11월 4일, 호란의 위클리 뉴스불꽃 심사단내맘대로 정신 클리닉네 죄를 네가 알렸다땅따먹기 제왕전방랑 작곡가 방삿갓김종서와 난생처음 친구들, 김종서, , ], [2, 2010년 11월 11일, 불꽃 심사단호란의 위클리 뉴스내맘대로 정신 클리닉네 죄를 네가 알렸다발당구 제왕전괜찮아 괜찮아방랑 작곡가 방삿갓FT 아일랜드와 난생처음 친구들, FT 아일랜드, 레인보우, ], [3, 2010년 12월 2일, 우리 좀 솔직해져 볼까내맘대로 정신 클리닉네 죄를 네가 알렸다푸드파이터 제왕전호란의 위클리 뉴스2PM와 난생처음 친구들, 2PM, , ], [4, 2010년 12월 9일, 우리 좀 솔직해져 볼까호란의 위클리 뉴스내맘대로 정신 클리닉네 죄를 네가 알렸다고무줄 대결샤이니와 난생처음 친구들, 샤이니, 레인보우, ], [5, 2010년 12월 16일, 진짜 팬이예요호란의 위클리 뉴스내 맘대로 장학퀴즈초능력자네 죄를 네가 알렸다우리 좀 솔직해져 볼까김장훈와 난생처음 친구들, 김장훈, , ], [6, 2010년 12월 23일, 호란의 위클리 뉴스초능력자네 죄를 네가 알렸다우리 좀 솔직해져 볼까활 쏘기 제왕전SG워너비와 난생처음 친구들, SG워너비, , ]]   \n",
       "183  [[순번, 이름, 취임일자, 사임일자, 재임시즌, 비고], [1대, 문정식, 1983/07/12, 1986/04/22, 1984–1986, 구단 초대 감독구단 최초 시즌 도중 사퇴한 감독], [대행, 조중연, 1986/04/22, 1986/12/??, 1986, 구단 최초 감독대행1986시즌 감독대행 수행 후 1987시즌부터 정식 감독으로 승격구단 최초 리그컵 우승 감독], [2대, 조중연, 1986/12/??, 1987/12/30, 1987, 구단 최초 감독대행1986시즌 감독대행 수행 후 1987시즌부터 정식 감독으로 승격구단 최초 리그컵 우승 감독], [3대, 김호, 1987/12/30, 1990/11/19, 1988–1990, ], [4대, 차범근, 1990/11/23, 1994/11/27, 1991–1994, 구단 역대 최연소 취임 감독 (38세)], [5대, 고재욱, 1994/11/30, 2000/06/12, 1995–2000, 1996 구단 최초 K리그 우승 감독구단 2번째 리그컵 우승 (2회) 감독구단 2번째 시즌 도중 사퇴한 감독], [대행, 정종수, 2000/06/12, 2000/08/21, 2000, 구단 2번째 감독대행], [6대, 김정남, 2000/08/22, 2008/12/25, 2000–2008, 구단 역대 최장수 감독 (9시즌)2005 구단 2번째 K리그 우승 감독구단 3번째 리그컵 우승 감독], [7대, 김호곤, 2008/12/26, 2013/12/04, 2009–2013, 2012 구단 최초 챔피언스리그 우승 감독구단 4번째 리그컵 우승 감독], [8대, 조민국, 2013/12/06, 2014/12/01, 2014, ], [9대, 윤정환, 2014/12/01, 2016/11/14, 2015–2016, ], [10대, 김도훈, 2016/11/21, , 2017–현재, 2017 구단 최초 FA컵 우승 감독]]   \n",
       "184  [[순번, 이름, 취임일자, 사임일자, 재임시즌, 비고], [1대, 문정식, 1983/07/12, 1986/04/22, 1984–1986, 구단 초대 감독구단 최초 시즌 도중 사퇴한 감독], [대행, 조중연, 1986/04/22, 1986/12/??, 1986, 구단 최초 감독대행1986시즌 감독대행 수행 후 1987시즌부터 정식 감독으로 승격구단 최초 리그컵 우승 감독], [2대, 조중연, 1986/12/??, 1987/12/30, 1987, 구단 최초 감독대행1986시즌 감독대행 수행 후 1987시즌부터 정식 감독으로 승격구단 최초 리그컵 우승 감독], [3대, 김호, 1987/12/30, 1990/11/19, 1988–1990, ], [4대, 차범근, 1990/11/23, 1994/11/27, 1991–1994, 구단 역대 최연소 취임 감독 (38세)], [5대, 고재욱, 1994/11/30, 2000/06/12, 1995–2000, 1996 구단 최초 K리그 우승 감독구단 2번째 리그컵 우승 (2회) 감독구단 2번째 시즌 도중 사퇴한 감독], [대행, 정종수, 2000/06/12, 2000/08/21, 2000, 구단 2번째 감독대행], [6대, 김정남, 2000/08/22, 2008/12/25, 2000–2008, 구단 역대 최장수 감독 (9시즌)2005 구단 2번째 K리그 우승 감독구단 3번째 리그컵 우승 감독], [7대, 김호곤, 2008/12/26, 2013/12/04, 2009–2013, 2012 구단 최초 챔피언스리그 우승 감독구단 4번째 리그컵 우승 감독], [8대, 조민국, 2013/12/06, 2014/12/01, 2014, ], [9대, 윤정환, 2014/12/01, 2016/11/14, 2015–2016, ], [10대, 김도훈, 2016/11/21, , 2017–현재, 2017 구단 최초 FA컵 우승 감독]]   \n",
       "\n",
       "                                                                              answer  \n",
       "179            호란의 위클리 뉴스불꽃 심사단내맘대로 정신 클리닉네 죄를 네가 알렸다땅따먹기 제왕전방랑 작곡가 방삿갓김종서와 난생처음 친구들  \n",
       "180  불꽃 심사단호란의 위클리 뉴스내맘대로 정신 클리닉네 죄를 네가 알렸다발당구 제왕전괜찮아 괜찮아방랑 작곡가 방삿갓FT 아일랜드와 난생처음 친구들  \n",
       "181               우리 좀 솔직해져 볼까내맘대로 정신 클리닉네 죄를 네가 알렸다푸드파이터 제왕전호란의 위클리 뉴스2PM와 난생처음 친구들  \n",
       "182                     호란의 위클리 뉴스초능력자네 죄를 네가 알렸다우리 좀 솔직해져 볼까활 쏘기 제왕전SG워너비와 난생처음 친구들  \n",
       "183                                                                              차범근  \n",
       "184                                                                       1994/11/30  "
      ]
     },
     "metadata": {},
     "output_type": "display_data"
    }
   ],
   "source": [
    "with option_context('display.max_row', None):\n",
    "    with option_context('display.max_colwidth', None):\n",
    "        display(korwikitq_question[179:185])"
   ]
  },
  {
   "cell_type": "code",
   "execution_count": null,
   "metadata": {},
   "outputs": [],
   "source": []
  }
 ],
 "metadata": {
  "kernelspec": {
   "display_name": "base",
   "language": "python",
   "name": "python3"
  },
  "language_info": {
   "codemirror_mode": {
    "name": "ipython",
    "version": 3
   },
   "file_extension": ".py",
   "mimetype": "text/x-python",
   "name": "python",
   "nbconvert_exporter": "python",
   "pygments_lexer": "ipython3",
   "version": "3.9.13"
  }
 },
 "nbformat": 4,
 "nbformat_minor": 2
}
